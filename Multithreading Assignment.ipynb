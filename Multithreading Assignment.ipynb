{
 "cells": [
  {
   "cell_type": "markdown",
   "id": "4c4a73b1",
   "metadata": {},
   "source": [
    "## Assignment on Multi-threading"
   ]
  },
  {
   "cell_type": "markdown",
   "id": "951e3cf8",
   "metadata": {},
   "source": [
    "#### 1. What is multithreading in python? Why is it used? Name the module used to handle threads in python"
   ]
  },
  {
   "cell_type": "markdown",
   "id": "88c3c80a",
   "metadata": {},
   "source": [
    "Multithreading is an ability of a processor to execute the multiple thereads concurrently (concurrently means two or more tasks will be initiated and completed in overlapping period within a **single processor**)\n",
    "In a simple, single-core CPU, it is achieved using frequent switching between threads. This is termed context switching. In context switching, the state of a thread is saved and the state of another thread is loaded whenever any interrupt (due to I/O or manually set) takes place. Context switching takes place so frequently that all the threads appear to be running parallelly (this is termed multitasking).\n",
    "\n",
    "Multi-threading is used to run the multiple tasks within the single processor (single core).\n",
    "\n",
    "The Module used to handles threads is : **threading** module and it takes two parameters as an input ( **target** --> function which you want to use and **args** --> arguments which you want to push into the function)"
   ]
  },
  {
   "cell_type": "markdown",
   "id": "8ed63d78",
   "metadata": {},
   "source": [
    "#### 2. Why threading module used? Write the use of the following functions:\n",
    "1. activeCount() or active_count() (activeCount() will be removed from python 3 and we need to use active_count() module instead)\n",
    "2. currentThread()\n",
    "3. enumerate()"
   ]
  },
  {
   "cell_type": "markdown",
   "id": "c7c297d6",
   "metadata": {},
   "source": [
    "threading module is used to create a threads within the one processor to run the tasks concurrently. \n",
    "\n",
    "**1. activeCount():**\n",
    "\n",
    "Syntax: **threading.active_count()**\n",
    "\n",
    "Description: returns the number of Threads currently alive. The returned count is equal to the length of the list returned by enumerate().\n",
    "\n",
    "Output: 8\n",
    "\n",
    "**2. currentThread():**\n",
    "\n",
    "Syntax: **threading.current_thread()**\n",
    "\n",
    "Description: returns the current Thread, corresponding to the caller’s thread of control\n",
    "\n",
    "Output: ***<_MainThread(MainThread, started 4303996288)>***\n",
    "\n",
    "**3. enumerate():**\n",
    "\n",
    "Syntax: **threading.enumerate()**\n",
    "\n",
    "Description: returns a list of all Threads currently alive, including the main thread; terminated threads and threads that have not yet been started are excluded\t\n",
    "\n",
    "Output: ***[<_MainThread(MainThread, started 4303996288)>,<Thread(Thread-4 (_thread_main), started daemon 6182760448)>,<Heartbeat(Thread-5, started daemon 6199586816)>,<Thread(Thread-6 (_watch_pipe_fd), started daemon 6217560064)>,<Thread(Thread-7 (_watch_pipe_fd), started daemon 6234386432)>, <ControlThread(Thread-3, started daemon 6251212800)>, <HistorySavingThread(IPythonHistorySavingThread, started 6268039168)>,<ParentPollerUnix(Thread-2, started daemon 6285438976)>]***\n",
    "\n",
    "**4. main_thread():**\n",
    "\n",
    "Syntax: **threading.main_thread()**\n",
    "\n",
    "Description: returns the main thread\t\n",
    "\n",
    "Output: _<_MainThread(MainThread, started 4303996288)>_"
   ]
  },
  {
   "cell_type": "code",
   "execution_count": 5,
   "id": "5f4ee4e4",
   "metadata": {},
   "outputs": [],
   "source": [
    "## Lets understand by writing the program\n",
    "\n",
    "# import threading # threading module is imported\n",
    "# def func1(num):\n",
    "#     print(f\"The square for the {num} is {num**2}\")\n",
    "# def func2(num):\n",
    "#     print(\"The cube of %d is %d\" %(num,num**3))\n",
    "# def func3(num):\n",
    "#     print(\"The addition of %d and %d is %d\" %(num,num,num+num))\n",
    "# if __name__==\"__main__\":\n",
    "#     t1=threading.Thread(target=func1,args=(10,))\n",
    "#     t2=threading.Thread(target=func2,args=(20,))\n",
    "#     t3=threading.Thread(target=func3,args=(30,))\n",
    "#     print(\" Active threads count before starting the threads:\", threading.active_count())\n",
    "#     print(\"The active threads in the starting is 1 which is the main thread that executes till the program runs\")\n",
    "#     t1.start()\n",
    "#     print(\"is t1 alive:\",t1.is_alive())\n",
    "#     print(\"Active threads after starting thread t1:\",threading.active_count())\n",
    "#     t2.start()\n",
    "#     print(\"After starting t2, is t1 alive:\",t1.is_alive(),\"is t2 alive?\", t2.is_alive())\n",
    "#     print(\"Active threads after starting thread t2:\",threading.active_count())\n",
    "#     t3.start()\n",
    "#     print(f\"After starting t3, is t1 alive? {t1.is_alive()} and is t2 alive ? {t2.is_alive()}\")\n",
    "#     print(\"Active threads after starting thread t3:\",threading.active_count())\n",
    "#     t1.join()\n",
    "#     t2.join()  \n",
    "#     t3.join()"
   ]
  },
  {
   "cell_type": "markdown",
   "id": "96c5ed30",
   "metadata": {},
   "source": [
    "\n",
    "#### 3. Explain the following functions\u001d",
    "\n",
    "1. run()\n",
    "2. start()\n",
    "3. join()\n",
    "4. isAlive()"
   ]
  },
  {
   "cell_type": "markdown",
   "id": "ed955b8e",
   "metadata": {},
   "source": [
    "1. **run()**:\n",
    "    \n",
    "Method representing the thread’s activity.\n",
    "\n",
    "You may override this method in a subclass. The standard run() method invokes the callable object passed to the object’s constructor as the target argument, if any, with positional and keyword arguments taken from the args and kwargs arguments, respectively.\n",
    "\n",
    "Using list or tuple as the args argument which passed to the Thread could achieve the same effect.\n",
    "\n",
    "Example:\n",
    "\n",
    "\n",
    "***from threading import Thread***\n",
    "\n",
    "t = Thread(target=print, args=[1])\n",
    "\n",
    "t.run()\n",
    "\n",
    "Ouyput: 1\n",
    "\n",
    "t = Thread(target=print, args=(1,))\n",
    "\n",
    "t.run()\n",
    "\n",
    "Output: 1\n",
    "\n",
    "2. **start()**\n",
    "\n",
    "Start the thread’s activity.\n",
    "\n",
    "It must be called at most once per thread object. It arranges for the object’s run() method to be invoked in a separate thread of control.\n",
    "\n",
    "This method will raise a RuntimeError if called more than once on the same thread object.\n",
    "\n",
    "Ex: thread_obj.start()\n",
    "\n",
    "3. **join()**\n",
    "\n",
    "join(timeout=None)\n",
    "\n",
    "Wait until the thread terminates. This blocks the calling thread until the thread whose join() method is called terminates – either normally or through an unhandled exception – or until the optional timeout occurs.\n",
    "\n",
    "When the timeout argument is present and not None, it should be a floating point number specifying a timeout for the operation in seconds (or fractions thereof). As join() always returns None, you must call is_alive() after join() to decide whether a timeout happened – if the thread is still alive, the join() call timed out.\n",
    "\n",
    "When the timeout argument is not present or None, the operation will block until the thread terminates.\n",
    "\n",
    "A thread can be joined many times.\n",
    "\n",
    "join() raises a RuntimeError if an attempt is made to join the current thread as that would cause a deadlock. It is also an error to join() a thread before it has been started and attempts to do so raise the same exception.\n",
    "\n",
    "4. **isAlive()**\n",
    "\n",
    "Return whether the thread is alive.\n",
    "\n",
    "This method returns True just before the run() method starts until just after the run() method terminates. The module function enumerate() returns a list of all alive threads."
   ]
  },
  {
   "cell_type": "markdown",
   "id": "7f7b4fab",
   "metadata": {},
   "source": [
    "#### 4.  Write a python program to create two threads. Thread one must print the list of squares and thread two must print the list of cubes?"
   ]
  },
  {
   "cell_type": "code",
   "execution_count": 6,
   "id": "5bd9b064",
   "metadata": {},
   "outputs": [
    {
     "name": "stdout",
     "output_type": "stream",
     "text": [
      "Square: 100\n",
      "Cube: 1000\n",
      "Done!\n"
     ]
    }
   ],
   "source": [
    "import threading\n",
    " \n",
    " \n",
    "def print_cube(num):\n",
    "    # function to print cube of given num\n",
    "    print(\"Cube: {}\" .format(num * num * num))\n",
    " \n",
    " \n",
    "def print_square(num):\n",
    "    # function to print square of given num\n",
    "    print(\"Square: {}\" .format(num * num))\n",
    " \n",
    " \n",
    "if __name__ ==\"__main__\":\n",
    "    # creating thread\n",
    "    t1 = threading.Thread(target=print_square, args=(10,))\n",
    "    t2 = threading.Thread(target=print_cube, args=(10,))\n",
    " \n",
    "    # starting thread 1\n",
    "    t1.start()\n",
    "    # starting thread 2\n",
    "    t2.start()\n",
    " \n",
    "    # wait until thread 1 is completely executed\n",
    "    t1.join()\n",
    "    # wait until thread 2 is completely executed\n",
    "    t2.join()\n",
    " \n",
    "    # both threads completely executed\n",
    "    print(\"Done!\")"
   ]
  },
  {
   "cell_type": "code",
   "execution_count": 2,
   "id": "b4c5a175",
   "metadata": {},
   "outputs": [
    {
     "name": "stdout",
     "output_type": "stream",
     "text": [
      "Threads in t1: [<Thread(Thread-15 (print_square), initial)>, <Thread(Thread-16 (print_square), initial)>, <Thread(Thread-17 (print_square), initial)>, <Thread(Thread-18 (print_square), initial)>, <Thread(Thread-19 (print_square), initial)>]\n",
      "The 0 thread in t1 is <Thread(Thread-15 (print_square), initial)>\n",
      "Square of 11 is 121\n",
      "The 1 thread in t1 is <Thread(Thread-16 (print_square), initial)>\n",
      "Square of 22 is 484\n",
      "The 2 thread in t1 is <Thread(Thread-17 (print_square), initial)>\n",
      "Square of 33 is 1089\n",
      "The 3 thread in t1 is <Thread(Thread-18 (print_square), initial)>\n",
      "Square of 44 is 1936\n",
      "The 4 thread in t1 is <Thread(Thread-19 (print_square), initial)>\n",
      "Square of 55 is 3025\n",
      "The 0 thread in t2 is <Thread(Thread-20 (print_cube), initial)>\n",
      "Cube of 10 is 1000\n",
      "The 1 thread in t2 is <Thread(Thread-21 (print_cube), initial)>\n",
      "Cube of 11 is 1331\n",
      "The 2 thread in t2 is <Thread(Thread-22 (print_cube), initial)>\n",
      "Cube of 12 is 1728\n",
      "The 3 thread in t2 is <Thread(Thread-23 (print_cube), initial)>\n",
      "Cube of 13 is 2197\n",
      "The 4 thread in t2 is <Thread(Thread-24 (print_cube), initial)>\n",
      "Cube of 14 is 2744\n"
     ]
    }
   ],
   "source": [
    "# if you want to execute the same program for multiple inputs then\n",
    "\n",
    "import threading\n",
    " \n",
    " \n",
    "def print_cube(num):\n",
    "    # function to print cube of given num\n",
    "    print(\"Cube of {} is {}\" .format(num,num * num * num))\n",
    " \n",
    " \n",
    "def print_square(num):\n",
    "    # function to print square of given num\n",
    "    print(\"Square of {} is {}\" .format(num,num * num))\n",
    " \n",
    " \n",
    "if __name__ ==\"__main__\":\n",
    "    # creating thread\n",
    "    t1 = [threading.Thread(target=print_square, args=(i,)) for i in [11,22,33,44,55]] # List of threads will be created for multiple inputs\n",
    "    print(\"Threads in t1:\",t1)\n",
    "    t2 = [threading.Thread(target=print_cube, args=(i,)) for i in [10,11,12,13,14]]\n",
    " \n",
    "   #we can start the thread by iterating the list of t1\n",
    "    for i in range(len(t1)):\n",
    "        print(f\"The {i} thread in t1 is {t1[i]}\")\n",
    "        t1[i].start()\n",
    "        t1[i].join()\n",
    "    for i in range(len(t2)):\n",
    "        print(f\"The {i} thread in t2 is {t2[i]}\")\n",
    "        t2[i].start()\n",
    "        t2[i].join()"
   ]
  },
  {
   "cell_type": "markdown",
   "id": "3e029acd",
   "metadata": {},
   "source": [
    "#### 5. State advantages and disadvantages of multithreading"
   ]
  },
  {
   "cell_type": "markdown",
   "id": "8753d908",
   "metadata": {},
   "source": [
    "**Advantages:**\n",
    "    \n",
    "1. To make efficient use of processor time while waiting for the I/O operations to complete.\n",
    "\n",
    "2. To split large, CPU bound tasks to be processed simultaneously on a machine that has multiple processors/cores\n",
    "\n",
    "**Disadvantages:**\n",
    "\n",
    "1. On a single core/processor machine thread can affect the performance negatively as there is overhead involved with context-switching\n",
    "\n",
    "2. Multithreading code is difficult to write, debug and maintain as it is a advanced topic\n"
   ]
  },
  {
   "cell_type": "markdown",
   "id": "6772a56b",
   "metadata": {},
   "source": [
    "#### 6. Explain deadlocks and race conditions."
   ]
  },
  {
   "cell_type": "markdown",
   "id": "cc61d696",
   "metadata": {},
   "source": [
    "Race Condition: A race condition occurs when multiple threads access and manipulate shared data concurrently, resulting in an unexpected and inconsistent state. It arises due to the non-deterministic interleaving of thread execution. Race conditions can lead to unpredictable and erroneous results in the program. For example, if multiple threads attempt to modify a shared variable simultaneously without proper synchronization, the final value of the variable can be incorrect\n",
    "\n",
    "Both deadlocks and race conditions are common challenges in concurrent programming, and careful design and synchronization techniques are required to prevent or resolve them effectively."
   ]
  },
  {
   "cell_type": "markdown",
   "id": "b79820f9",
   "metadata": {},
   "source": [
    "#### Reference links:\n",
    "\n",
    "Reference link:https://docs.python.org/3/library/threading.html"
   ]
  }
 ],
 "metadata": {
  "kernelspec": {
   "display_name": "Python 3 (ipykernel)",
   "language": "python",
   "name": "python3"
  },
  "language_info": {
   "codemirror_mode": {
    "name": "ipython",
    "version": 3
   },
   "file_extension": ".py",
   "mimetype": "text/x-python",
   "name": "python",
   "nbconvert_exporter": "python",
   "pygments_lexer": "ipython3",
   "version": "3.10.9"
  }
 },
 "nbformat": 4,
 "nbformat_minor": 5
}
